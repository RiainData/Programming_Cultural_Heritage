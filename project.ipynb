{
 "cells": [
  {
   "cell_type": "code",
   "execution_count": 3,
   "metadata": {},
   "outputs": [
    {
     "ename": "FileNotFoundError",
     "evalue": "[Errno 2] No such file or directory: 'Ulysses.txt'",
     "output_type": "error",
     "traceback": [
      "\u001b[0;31m---------------------------------------------------------------------------\u001b[0m",
      "\u001b[0;31mFileNotFoundError\u001b[0m                         Traceback (most recent call last)",
      "Cell \u001b[0;32mIn[3], line 12\u001b[0m\n\u001b[1;32m      9\u001b[0m \u001b[38;5;66;03m# loop through each file\u001b[39;00m\n\u001b[1;32m     10\u001b[0m \u001b[38;5;28;01mfor\u001b[39;00m filename \u001b[38;5;129;01min\u001b[39;00m filenames:\n\u001b[1;32m     11\u001b[0m     \u001b[38;5;66;03m# Open each file\u001b[39;00m\n\u001b[0;32m---> 12\u001b[0m     \u001b[38;5;28;01mwith\u001b[39;00m \u001b[38;5;28;43mopen\u001b[39;49m\u001b[43m(\u001b[49m\u001b[43mfilename\u001b[49m\u001b[43m,\u001b[49m\u001b[43m \u001b[49m\u001b[38;5;124;43m'\u001b[39;49m\u001b[38;5;124;43mr\u001b[39;49m\u001b[38;5;124;43m'\u001b[39;49m\u001b[43m,\u001b[49m\u001b[43m \u001b[49m\u001b[43mencoding\u001b[49m\u001b[38;5;241;43m=\u001b[39;49m\u001b[38;5;124;43m'\u001b[39;49m\u001b[38;5;124;43mutf-8\u001b[39;49m\u001b[38;5;124;43m'\u001b[39;49m\u001b[43m)\u001b[49m \u001b[38;5;28;01mas\u001b[39;00m file:\n\u001b[1;32m     13\u001b[0m         \u001b[38;5;66;03m# Read the content and store it in the dictionary\u001b[39;00m\n\u001b[1;32m     14\u001b[0m         texts[filename] \u001b[38;5;241m=\u001b[39m file\u001b[38;5;241m.\u001b[39mread()\n",
      "File \u001b[0;32m/Library/Frameworks/Python.framework/Versions/3.12/lib/python3.12/site-packages/IPython/core/interactiveshell.py:310\u001b[0m, in \u001b[0;36m_modified_open\u001b[0;34m(file, *args, **kwargs)\u001b[0m\n\u001b[1;32m    303\u001b[0m \u001b[38;5;28;01mif\u001b[39;00m file \u001b[38;5;129;01min\u001b[39;00m {\u001b[38;5;241m0\u001b[39m, \u001b[38;5;241m1\u001b[39m, \u001b[38;5;241m2\u001b[39m}:\n\u001b[1;32m    304\u001b[0m     \u001b[38;5;28;01mraise\u001b[39;00m \u001b[38;5;167;01mValueError\u001b[39;00m(\n\u001b[1;32m    305\u001b[0m         \u001b[38;5;124mf\u001b[39m\u001b[38;5;124m\"\u001b[39m\u001b[38;5;124mIPython won\u001b[39m\u001b[38;5;124m'\u001b[39m\u001b[38;5;124mt let you open fd=\u001b[39m\u001b[38;5;132;01m{\u001b[39;00mfile\u001b[38;5;132;01m}\u001b[39;00m\u001b[38;5;124m by default \u001b[39m\u001b[38;5;124m\"\u001b[39m\n\u001b[1;32m    306\u001b[0m         \u001b[38;5;124m\"\u001b[39m\u001b[38;5;124mas it is likely to crash IPython. If you know what you are doing, \u001b[39m\u001b[38;5;124m\"\u001b[39m\n\u001b[1;32m    307\u001b[0m         \u001b[38;5;124m\"\u001b[39m\u001b[38;5;124myou can use builtins\u001b[39m\u001b[38;5;124m'\u001b[39m\u001b[38;5;124m open.\u001b[39m\u001b[38;5;124m\"\u001b[39m\n\u001b[1;32m    308\u001b[0m     )\n\u001b[0;32m--> 310\u001b[0m \u001b[38;5;28;01mreturn\u001b[39;00m \u001b[43mio_open\u001b[49m\u001b[43m(\u001b[49m\u001b[43mfile\u001b[49m\u001b[43m,\u001b[49m\u001b[43m \u001b[49m\u001b[38;5;241;43m*\u001b[39;49m\u001b[43margs\u001b[49m\u001b[43m,\u001b[49m\u001b[43m \u001b[49m\u001b[38;5;241;43m*\u001b[39;49m\u001b[38;5;241;43m*\u001b[39;49m\u001b[43mkwargs\u001b[49m\u001b[43m)\u001b[49m\n",
      "\u001b[0;31mFileNotFoundError\u001b[0m: [Errno 2] No such file or directory: 'Ulysses.txt'"
     ]
    }
   ],
   "source": [
    "#PART 1: READING THE TEXT FILES FOR JOYCE'S WORKS\n",
    "\n",
    "\n",
    "filenames = ['Ulysses.txt', 'Portrait.txt', 'Dubliners.txt']\n",
    "\n",
    "# dictionary to hold the content of each file\n",
    "texts = {}\n",
    "\n",
    "# loop through each file\n",
    "for filename in filenames:\n",
    "    # Open each file\n",
    "    with open(filename, 'r', encoding='utf-8') as file:\n",
    "        # Read the content and store it in the dictionary\n",
    "        texts[filename] = file.read()"
   ]
  },
  {
   "cell_type": "code",
   "execution_count": null,
   "metadata": {},
   "outputs": [],
   "source": [
    "#PART 2: INITIAL EXPLORATION OF DATA\n",
    "\n",
    "word_counts = {filename: len(texts[filename].split()) for filename in texts}\n",
    "print(word_counts)\n",
    "\n",
    "from collections import Counter\n",
    "most_common_words = {filename: Counter(texts[filename].split()).most_common(100) for filename in texts}\n",
    "print(most_common_words) "
   ]
  },
  {
   "cell_type": "code",
   "execution_count": 1,
   "metadata": {},
   "outputs": [
    {
     "ename": "NameError",
     "evalue": "name 'filenames' is not defined",
     "output_type": "error",
     "traceback": [
      "\u001b[0;31m---------------------------------------------------------------------------\u001b[0m",
      "\u001b[0;31mNameError\u001b[0m                                 Traceback (most recent call last)",
      "Cell \u001b[0;32mIn[1], line 51\u001b[0m\n\u001b[1;32m     42\u001b[0m             \u001b[38;5;28;01mreturn\u001b[39;00m {\n\u001b[1;32m     43\u001b[0m                 \u001b[38;5;124m\"\u001b[39m\u001b[38;5;124mlocation\u001b[39m\u001b[38;5;124m\"\u001b[39m: location,\n\u001b[1;32m     44\u001b[0m                 \u001b[38;5;124m\"\u001b[39m\u001b[38;5;124mlatitude\u001b[39m\u001b[38;5;124m\"\u001b[39m: \u001b[38;5;28mfloat\u001b[39m(data[\u001b[38;5;241m0\u001b[39m][\u001b[38;5;124m'\u001b[39m\u001b[38;5;124mlat\u001b[39m\u001b[38;5;124m'\u001b[39m]),\n\u001b[1;32m     45\u001b[0m                 \u001b[38;5;124m\"\u001b[39m\u001b[38;5;124mlongitude\u001b[39m\u001b[38;5;124m\"\u001b[39m: \u001b[38;5;28mfloat\u001b[39m(data[\u001b[38;5;241m0\u001b[39m][\u001b[38;5;124m'\u001b[39m\u001b[38;5;124mlon\u001b[39m\u001b[38;5;124m'\u001b[39m]),\n\u001b[1;32m     46\u001b[0m                 \u001b[38;5;124m\"\u001b[39m\u001b[38;5;124maddress\u001b[39m\u001b[38;5;124m\"\u001b[39m: data[\u001b[38;5;241m0\u001b[39m][\u001b[38;5;124m'\u001b[39m\u001b[38;5;124mdisplay_name\u001b[39m\u001b[38;5;124m'\u001b[39m]\n\u001b[1;32m     47\u001b[0m             }\n\u001b[1;32m     48\u001b[0m     \u001b[38;5;28;01mreturn\u001b[39;00m \u001b[38;5;28;01mNone\u001b[39;00m\n\u001b[0;32m---> 51\u001b[0m \u001b[38;5;28;01mfor\u001b[39;00m filename \u001b[38;5;129;01min\u001b[39;00m \u001b[43mfilenames\u001b[49m:\n\u001b[1;32m     52\u001b[0m     \u001b[38;5;28;01mwith\u001b[39;00m \u001b[38;5;28mopen\u001b[39m(filename, \u001b[38;5;124m'\u001b[39m\u001b[38;5;124mr\u001b[39m\u001b[38;5;124m'\u001b[39m, encoding\u001b[38;5;241m=\u001b[39m\u001b[38;5;124m'\u001b[39m\u001b[38;5;124mutf-8\u001b[39m\u001b[38;5;124m'\u001b[39m) \u001b[38;5;28;01mas\u001b[39;00m file:\n\u001b[1;32m     53\u001b[0m         texts[filename] \u001b[38;5;241m=\u001b[39m file\u001b[38;5;241m.\u001b[39mread()\n",
      "\u001b[0;31mNameError\u001b[0m: name 'filenames' is not defined"
     ]
    }
   ],
   "source": [
    "#PART 3: USING NLP LIBRARY SPACY TO EXTRACT ENTITIES // PART 4: GEOCODING THOSE ENTITIES AND SAVING TO .JSON\n",
    "\n",
    "import spacy\n",
    "import requests\n",
    "import json\n",
    "\n",
    "spacy.prefer_gpu()\n",
    "nlp = spacy.load(\"en_core_web_sm\")\n",
    "nlp.max_length = 2000000  \n",
    "\n",
    "\n",
    "# Dictionary to store geocoded locations\n",
    "geocoded_results = {}\n",
    "\n",
    "# Words to exclude\n",
    "excluded_words = {'Leopold', 'Bloom', 'Molly', 'Bloom', 'Curran', 'Pharaohs',\n",
    "                   'Ursula', 'hockey', 'ivory', 'continent',\n",
    "                  'Stephen', 'Dedalus', 'Buck', 'Mulligan', 'Haines', 'Gerty',\n",
    "                    'MacDowell', 'Simon', 'Dedalus',\n",
    "                  'Milly', 'Bloom', 'Blazes', 'Boylan', 'Marion',\n",
    "                    'Bloom', 'Stephen', 'Dedalus', 'Simon', 'Dedalus',\n",
    "                  'Mary', 'Dedalus', 'Dante', 'Riordan', 'Cranly', 'Davin', \n",
    "                  'Lynch', 'Emma', 'Clery', 'Gabriel',\n",
    "                  'Conroy', 'Gretta', 'Conroy', 'Eveline', 'Hill', 'Little',\n",
    "                    'Chandler', 'Duffy', 'Maria', 'Farrington',\n",
    "                  'Sinico', 'Kernan', 'Lenehan', 'Dignam', 'Fitzgibbon',\n",
    "                    'Heseltine', 'Solemn', 'quae', 'bangbang', 'malachi',\n",
    "                    'Boody', 'Thornton', 'Kiar', 'Victoria', 'Malaria',\n",
    "                      'Cummins', 'Gael', 'Sambo',\n",
    "                   'Vincent',  'Heenan', 'Leahy', 'DR', 'Maggy', 'Alas',\n",
    "                     'Marsh', 'Swill',\n",
    "                     'reek', 'Andrews', 'Helen', 'Julia', 'Egan', 'Lower',\n",
    "                       'Temple', 'Duffy'}\n",
    "\n",
    "\n",
    "def geocode_location(location):\n",
    "    url = f\"https://nominatim.openstreetmap.org/search?q={location}&format=json\"\n",
    "    response = requests.get(url)\n",
    "    if response.status_code == 200:\n",
    "        data = response.json()\n",
    "        if data:\n",
    "            return {\n",
    "                \"location\": location,\n",
    "                \"latitude\": float(data[0]['lat']),\n",
    "                \"longitude\": float(data[0]['lon']),\n",
    "                \"address\": data[0]['display_name']\n",
    "            }\n",
    "    return None\n",
    "\n",
    "\n",
    "for filename in filenames:\n",
    "    with open(filename, 'r', encoding='utf-8') as file:\n",
    "        texts[filename] = file.read()\n",
    "\n",
    "  \n",
    "    doc = nlp(texts[filename])\n",
    "\n",
    "    geocoded_results[filename] = []\n",
    "\n",
    "   \n",
    "    locations = [ent.text for ent in doc.ents if ent.label_ in ['GPE', 'LOC'] and ent.text not in excluded_words]\n",
    "    for location in locations:\n",
    "        geocoded_location = geocode_location(location)\n",
    "        if geocoded_location:\n",
    "            geocoded_results[filename].append(geocoded_location)\n",
    "\n",
    "\n",
    "with open('geocoded_locations.json', 'w', encoding='utf-8') as json_file:\n",
    "    json.dump(geocoded_results, json_file, ensure_ascii=False, indent=4)\n",
    "\n",
    "print(\"Geocoding complete. Data saved to 'geocoded_locations.json'.\")"
   ]
  }
 ],
 "metadata": {
  "kernelspec": {
   "display_name": "Python 3",
   "language": "python",
   "name": "python3"
  },
  "language_info": {
   "codemirror_mode": {
    "name": "ipython",
    "version": 3
   },
   "file_extension": ".py",
   "mimetype": "text/x-python",
   "name": "python",
   "nbconvert_exporter": "python",
   "pygments_lexer": "ipython3",
   "version": "3.12.1"
  }
 },
 "nbformat": 4,
 "nbformat_minor": 2
}
